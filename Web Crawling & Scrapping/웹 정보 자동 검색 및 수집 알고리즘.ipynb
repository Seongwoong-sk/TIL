{
 "cells": [
  {
   "cell_type": "code",
   "execution_count": 6,
   "metadata": {
    "ExecuteTime": {
     "end_time": "2021-02-15T13:40:05.375072Z",
     "start_time": "2021-02-15T13:40:02.279098Z"
    }
   },
   "outputs": [],
   "source": [
    "import pandas as pd\n"
   ]
  },
  {
   "cell_type": "code",
   "execution_count": 10,
   "metadata": {
    "ExecuteTime": {
     "end_time": "2021-02-15T13:40:33.904321Z",
     "start_time": "2021-02-15T13:40:33.789230Z"
    }
   },
   "outputs": [],
   "source": [
    "df = pd.read_csv(\"finish.csv\", encoding = 'cp949')"
   ]
  },
  {
   "cell_type": "code",
   "execution_count": 11,
   "metadata": {
    "ExecuteTime": {
     "end_time": "2021-02-15T13:40:42.425830Z",
     "start_time": "2021-02-15T13:40:42.389306Z"
    }
   },
   "outputs": [
    {
     "data": {
      "text/html": [
       "<div>\n",
       "<style scoped>\n",
       "    .dataframe tbody tr th:only-of-type {\n",
       "        vertical-align: middle;\n",
       "    }\n",
       "\n",
       "    .dataframe tbody tr th {\n",
       "        vertical-align: top;\n",
       "    }\n",
       "\n",
       "    .dataframe thead th {\n",
       "        text-align: right;\n",
       "    }\n",
       "</style>\n",
       "<table border=\"1\" class=\"dataframe\">\n",
       "  <thead>\n",
       "    <tr style=\"text-align: right;\">\n",
       "      <th></th>\n",
       "      <th>순번</th>\n",
       "      <th>업체명</th>\n",
       "      <th>업종</th>\n",
       "      <th>대표자명</th>\n",
       "      <th>대표번호</th>\n",
       "      <th>이메일</th>\n",
       "      <th>허가일자</th>\n",
       "      <th>업체 전화번호</th>\n",
       "    </tr>\n",
       "  </thead>\n",
       "  <tbody>\n",
       "    <tr>\n",
       "      <th>0</th>\n",
       "      <td>20913</td>\n",
       "      <td>(주)브리에잇</td>\n",
       "      <td>화장품책임판매</td>\n",
       "      <td>박진평</td>\n",
       "      <td>-</td>\n",
       "      <td>NaN</td>\n",
       "      <td>2016-03-08</td>\n",
       "      <td>NaN</td>\n",
       "    </tr>\n",
       "    <tr>\n",
       "      <th>1</th>\n",
       "      <td>24306</td>\n",
       "      <td>(주)웅진투투럽</td>\n",
       "      <td>화장품제조</td>\n",
       "      <td>윤형덕</td>\n",
       "      <td>NaN</td>\n",
       "      <td>NaN</td>\n",
       "      <td>2014-01-20</td>\n",
       "      <td>NaN</td>\n",
       "    </tr>\n",
       "    <tr>\n",
       "      <th>2</th>\n",
       "      <td>24364</td>\n",
       "      <td>(주)웅진투투럽</td>\n",
       "      <td>화장품책임판매</td>\n",
       "      <td>윤형덕</td>\n",
       "      <td>NaN</td>\n",
       "      <td>NaN</td>\n",
       "      <td>2013-12-31</td>\n",
       "      <td>NaN</td>\n",
       "    </tr>\n",
       "    <tr>\n",
       "      <th>3</th>\n",
       "      <td>22953</td>\n",
       "      <td>(주)케이탑</td>\n",
       "      <td>화장품책임판매</td>\n",
       "      <td>정기룡</td>\n",
       "      <td>NaN</td>\n",
       "      <td>NaN</td>\n",
       "      <td>2015-03-13</td>\n",
       "      <td>NaN</td>\n",
       "    </tr>\n",
       "    <tr>\n",
       "      <th>4</th>\n",
       "      <td>3240</td>\n",
       "      <td>마노코스</td>\n",
       "      <td>화장품책임판매</td>\n",
       "      <td>정미광</td>\n",
       "      <td>NaN</td>\n",
       "      <td>NaN</td>\n",
       "      <td>2020-09-02</td>\n",
       "      <td>NaN</td>\n",
       "    </tr>\n",
       "  </tbody>\n",
       "</table>\n",
       "</div>"
      ],
      "text/plain": [
       "      순번       업체명       업종 대표자명 대표번호  이메일        허가일자  업체 전화번호\n",
       "0  20913   (주)브리에잇  화장품책임판매  박진평    -  NaN  2016-03-08      NaN\n",
       "1  24306  (주)웅진투투럽    화장품제조  윤형덕  NaN  NaN  2014-01-20      NaN\n",
       "2  24364  (주)웅진투투럽  화장품책임판매  윤형덕  NaN  NaN  2013-12-31      NaN\n",
       "3  22953    (주)케이탑  화장품책임판매  정기룡  NaN  NaN  2015-03-13      NaN\n",
       "4   3240      마노코스  화장품책임판매  정미광  NaN  NaN  2020-09-02      NaN"
      ]
     },
     "execution_count": 11,
     "metadata": {},
     "output_type": "execute_result"
    }
   ],
   "source": [
    "df.head()"
   ]
  },
  {
   "cell_type": "markdown",
   "metadata": {},
   "source": [
    "# Search 함수 (최종)\n",
    "- selenium 사용을 위해 selenium 라이브러리 설치와 chromedriver 설치 필요"
   ]
  },
  {
   "cell_type": "code",
   "execution_count": null,
   "metadata": {
    "ExecuteTime": {
     "end_time": "2021-02-15T13:40:05.506250Z",
     "start_time": "2021-02-15T13:40:04.236Z"
    }
   },
   "outputs": [],
   "source": [
    "from selenium import webdriver\n",
    "from selenium.webdriver.common.keys import Keys\n",
    "from urllib.request import urlopen\n",
    "from bs4 import BeautifulSoup\n",
    "import requests\n",
    "import threading\n",
    "import time\n",
    "\n",
    "path = \"C:/Users/rlatj/Desktop/chromedriver.exe\"\n",
    "\n",
    "driver = webdriver.Chrome(path)"
   ]
  },
  {
   "cell_type": "code",
   "execution_count": 12,
   "metadata": {
    "ExecuteTime": {
     "end_time": "2021-02-15T13:41:19.162592Z",
     "start_time": "2021-02-15T13:40:49.339274Z"
    }
   },
   "outputs": [
    {
     "name": "stdout",
     "output_type": "stream",
     "text": [
      "(주)웅진투투럽의 전화번호는 (02) 2076-4648 입니다\n",
      "1 번째 끝냈습니다.\n",
      "(주)웅진투투럽의 전화번호는 (02) 2076-4648 입니다\n",
      "2 번째 끝냈습니다.\n",
      "(주)케이탑의 전화번호는 043-882-7790 입니다\n",
      "3 번째 끝냈습니다.\n",
      "마노코스의 전화번호는  입니다\n",
      "4 번째 끝냈습니다.\n"
     ]
    }
   ],
   "source": [
    "try:\n",
    "    \n",
    "    # 에러가 났을 때 다음 번호로 검색 진행하는 메소드\n",
    "    def error_search(a):\n",
    "        \n",
    "        for i in df['업체명'].index[a:]: # 반복횟수 지정\n",
    "        \n",
    "            company = df.iloc[i,1]\n",
    "        \n",
    "        # 의약품 홈페이지 열기\n",
    "            driver.get(\"https://nedrug.mfds.go.kr/pbp/CCBBA01\")\n",
    "        \n",
    "        # 업체명 검색 후 돋보기 클릭\n",
    "            entname = driver.find_element_by_name(\"entpName\")\n",
    "            entname.clear()\n",
    "            entname.send_keys(company,Keys.TAB)\n",
    "            entname.submit()\n",
    "        \n",
    "#         time.sleep(0.5)\n",
    "        \n",
    "        # 업체명 링크 클릭\n",
    "            comfind = driver.find_element_by_xpath('//*[@id=\"JColResizer0\"]/tbody/tr/td[2]/a')\n",
    "            comfind.click()\n",
    "\n",
    "            # 업체 전화번호가 적힌 url을 가져옴\n",
    "            url_test = driver.current_url\n",
    "            html = requests.get(url_test)\n",
    "            bs_html = BeautifulSoup(html.content, \"html.parser\")\n",
    "\n",
    "            # 업체 전화번호가 적힌 태그를 변수에 담음\n",
    "            comp = bs_html.find(\"td\",{\"class\":\"al_l\"})\n",
    "\n",
    "            # 업체 전화번호 변수에 담기 (문자형태)\n",
    "            phonenum = comp.text\n",
    "            print(company+\"의 전화번호는 \"+ phonenum+\" 입니다\")\n",
    "\n",
    "    #         time.sleep(0.5)\n",
    "\n",
    "            if df.iloc[i,1] == company:\n",
    "                df.iloc[i,4] = phonenum\n",
    "\n",
    "\n",
    "                global num\n",
    "                num = i\n",
    "                print(num,\"번째 끝냈습니다.\")\n",
    "                num += 1\n",
    "    \n",
    "###################################################################################################################\n",
    "    def search(a):\n",
    "        \n",
    "        # 최초 검색 시작 메소드\n",
    "        \n",
    "                            # 최초 시작 인덱스 위치\n",
    "        for i in df['업체명'].index[1:5]: \n",
    "            \n",
    "        # 업체명 위치\n",
    "            company = df.iloc[i,1]\n",
    "        \n",
    "        # 의약품 홈페이지 열기\n",
    "            driver.get(\"https://nedrug.mfds.go.kr/pbp/CCBBA01\")\n",
    "        \n",
    "        # 업체명 검색 후 돋보기 클릭\n",
    "            entname = driver.find_element_by_name(\"entpName\")\n",
    "            entname.clear()\n",
    "            entname.send_keys(company,Keys.TAB)\n",
    "            entname.submit()\n",
    "        \n",
    "        \n",
    "        # 업체명 링크 클릭\n",
    "            comfind = driver.find_element_by_xpath('//*[@id=\"JColResizer0\"]/tbody/tr/td[2]/a')\n",
    "            comfind.click()\n",
    "\n",
    "            # 업체 전화번호가 적힌 url을 가져옴\n",
    "            url_test = driver.current_url\n",
    "            html = requests.get(url_test)\n",
    "            bs_html = BeautifulSoup(html.content, \"html.parser\")\n",
    "\n",
    "            # 업체 전화번호가 적힌 태그를 변수에 담음\n",
    "            comp = bs_html.find(\"td\",{\"class\":\"al_l\"})\n",
    "\n",
    "            # 업체 전화번호 변수에 담기 (문자형태)\n",
    "            phonenum = comp.text\n",
    "            print(company+\"의 전화번호는 \"+ phonenum+\" 입니다\")\n",
    "\n",
    "\n",
    "            if df.iloc[i,1] == company:\n",
    "                df.iloc[i,4] = phonenum\n",
    "\n",
    "                global num\n",
    "                num = i\n",
    "                print(num,\"번째 끝냈습니다.\")\n",
    "                num += 1\n",
    "\n",
    "    a = 1\n",
    "    search(a)\n",
    "\n",
    "except AttributeError as e:\n",
    "    print(e)\n",
    "    print(\"★오류 난 시점의 num값 : \",num)\n",
    "    a = num\n",
    "    print(\"★error_search 메소드를 실행합니다★\\n☆다음 인덱스로 검색을 재시작합니다☆\")\n",
    "    error_search(a+1)\n"
   ]
  },
  {
   "cell_type": "code",
   "execution_count": 154,
   "metadata": {
    "ExecuteTime": {
     "end_time": "2021-02-14T07:32:08.223637Z",
     "start_time": "2021-02-14T07:31:58.903638Z"
    },
    "scrolled": true
   },
   "outputs": [],
   "source": [
    "pd.options.display.max_rows = 1000\n",
    "\n",
    "df.to_excel('완료.xlsx',sheet_name=\"작업본\", index=True, header=df.columns )"
   ]
  },
  {
   "cell_type": "code",
   "execution_count": 156,
   "metadata": {
    "ExecuteTime": {
     "end_time": "2021-02-14T07:35:06.946791Z",
     "start_time": "2021-02-14T07:35:06.747490Z"
    }
   },
   "outputs": [],
   "source": [
    "df.to_csv(\"finishvv.csv\",index=False, encoding='UTF-8')"
   ]
  }
 ],
 "metadata": {
  "kernelspec": {
   "display_name": "Python 3",
   "language": "python",
   "name": "python3"
  },
  "language_info": {
   "codemirror_mode": {
    "name": "ipython",
    "version": 3
   },
   "file_extension": ".py",
   "mimetype": "text/x-python",
   "name": "python",
   "nbconvert_exporter": "python",
   "pygments_lexer": "ipython3",
   "version": "3.7.4"
  },
  "toc": {
   "base_numbering": 1,
   "nav_menu": {},
   "number_sections": true,
   "sideBar": true,
   "skip_h1_title": false,
   "title_cell": "Table of Contents",
   "title_sidebar": "Contents",
   "toc_cell": false,
   "toc_position": {},
   "toc_section_display": true,
   "toc_window_display": false
  },
  "varInspector": {
   "cols": {
    "lenName": 16,
    "lenType": 16,
    "lenVar": 40
   },
   "kernels_config": {
    "python": {
     "delete_cmd_postfix": "",
     "delete_cmd_prefix": "del ",
     "library": "var_list.py",
     "varRefreshCmd": "print(var_dic_list())"
    },
    "r": {
     "delete_cmd_postfix": ") ",
     "delete_cmd_prefix": "rm(",
     "library": "var_list.r",
     "varRefreshCmd": "cat(var_dic_list()) "
    }
   },
   "types_to_exclude": [
    "module",
    "function",
    "builtin_function_or_method",
    "instance",
    "_Feature"
   ],
   "window_display": false
  }
 },
 "nbformat": 4,
 "nbformat_minor": 2
}
