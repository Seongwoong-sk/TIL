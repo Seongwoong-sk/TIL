{
 "cells": [
  {
   "cell_type": "markdown",
   "metadata": {},
   "source": [
    "## Q1.주어진 자연수가 홀수인지 짝수인지 판별해 주는 함수(is_odd)를 작성해보자"
   ]
  },
  {
   "cell_type": "code",
   "execution_count": 11,
   "metadata": {},
   "outputs": [
    {
     "name": "stdout",
     "output_type": "stream",
     "text": [
      "2는 짝수입니다.\n"
     ]
    }
   ],
   "source": [
    "def is_odd(a):\n",
    "    if a%2==0:\n",
    "        print(\"%d는 짝수입니다.\" % a)\n",
    "    else:\n",
    "        print(\"%d는 홀수입니다.\"% a)\n",
    "        \n",
    "is_odd(2)"
   ]
  },
  {
   "cell_type": "code",
   "execution_count": null,
   "metadata": {},
   "outputs": [],
   "source": [
    "#답지 코드\n",
    "def is_odd(number):\n",
    "...     if number % 2 == 1:   # 2로 나누었을 때 나머지가 1이면 홀수이다.\n",
    "...         return True\n",
    "...     else:\n",
    "...         return False\n",
    "...\n",
    ">>> is_odd(3)\n",
    "True\n",
    ">>> is_odd(4)\n",
    "False"
   ]
  },
  {
   "cell_type": "code",
   "execution_count": 12,
   "metadata": {},
   "outputs": [
    {
     "data": {
      "text/plain": [
       "True"
      ]
     },
     "execution_count": 12,
     "metadata": {},
     "output_type": "execute_result"
    }
   ],
   "source": [
    "is_odd = lambda x: True if x % 2 == 1 else False\n",
    ">>> is_odd(3)"
   ]
  },
  {
   "cell_type": "markdown",
   "metadata": {},
   "source": [
    "## Q2.입력으로 들어오는 모든 수의 평균 값을 계산해 주는 함수를 작성해 보자. (단 입력으로 들어오는 수의 개수는 정해져 있지 않다.)"
   ]
  },
  {
   "cell_type": "code",
   "execution_count": 13,
   "metadata": {},
   "outputs": [
    {
     "data": {
      "text/plain": [
       "3.5"
      ]
     },
     "execution_count": 13,
     "metadata": {},
     "output_type": "execute_result"
    }
   ],
   "source": [
    "\n",
    "\n",
    "def eunju(*args):\n",
    "    result = 0\n",
    "    for i in args:\n",
    "        result = result + i\n",
    "    avg = result / len(args)\n",
    "    return avg\n",
    "\n",
    "eunju(2,3,4,5)\n"
   ]
  },
  {
   "cell_type": "code",
   "execution_count": null,
   "metadata": {},
   "outputs": [],
   "source": [
    "#답지 \n",
    "def avg_numbers(*args):   # 입력 개수에 상관없이 사용하기 위해 *args를 사용\n",
    "...     result = 0\n",
    "...     for i in args:\n",
    "...         result += i\n",
    "...     return result / len(args)\n",
    "...\n",
    "avg_numbers(1, 2)\n",
    "1.5\n",
    ">>> avg_numbers(1,2,3,4,5)"
   ]
  },
  {
   "cell_type": "markdown",
   "metadata": {},
   "source": [
    "## Q3. 두 개의 숫자를 입력받아 더하는 돌려주는 프로그램 오류 수정"
   ]
  },
  {
   "cell_type": "code",
   "execution_count": null,
   "metadata": {},
   "outputs": [],
   "source": [
    "input1 = int(input(\"첫번째 숫자를 입력하세요:\"))\n",
    "input2 = int(input(\"두번째 숫자를 입력하세요:\"))\n",
    "\n",
    "\n",
    "total = input1 + input2\n",
    "print(\"두 수의 합은 %s 입니다\" % total)\n",
    "\n",
    "#int 함수 사용"
   ]
  },
  {
   "cell_type": "code",
   "execution_count": null,
   "metadata": {},
   "outputs": [],
   "source": [
    "#답지\n",
    "input1 = input(\"첫 번째 숫자를 입력하세요:\")\n",
    "input2 = input(\"두 번째 숫자를 입력하세요:\")\n",
    "\n",
    "total = int(input1) + int(input2)      # 입력은 항상 문자열이므로 숫자로 바꾸어 주어야 한다.\n",
    "print(\"두수의 합은 %s 입니다\" % total)"
   ]
  },
  {
   "cell_type": "markdown",
   "metadata": {},
   "source": [
    "## Q4.다음 중 출력 결과가 다른 것 한 개를 골라 보자."
   ]
  },
  {
   "cell_type": "code",
   "execution_count": null,
   "metadata": {},
   "outputs": [],
   "source": [
    "# print(\"you\" \"need\" \"python\")\n",
    "# print(\"you\"+\"need\"+\"python\")\n",
    "# print(\"you\", \"need\", \"python\")\n",
    "# print(\"\".join([\"you\", \"need\", \"python\"]))"
   ]
  },
  {
   "cell_type": "code",
   "execution_count": null,
   "metadata": {},
   "outputs": [],
   "source": [
    "#3번"
   ]
  },
  {
   "cell_type": "markdown",
   "metadata": {},
   "source": [
    "## Q5.음은 \"test.txt\"라는 파일에 \"Life is too short\" 문자열을 저장한 후 다시 그 파일을 읽어서 출력하는 프로그램이다.\n",
    "이 프로그램은 우리가 예상한 \"Life is too short\"라는 문장을 출력하지 않는다. 우리가 예상한 값을 출력할 수 있도록 프로그램을 수정해 보자."
   ]
  },
  {
   "cell_type": "code",
   "execution_count": null,
   "metadata": {},
   "outputs": [],
   "source": [
    "f1 = open(\"haha.txt\", 'a')\n",
    "f1.write(\"Life is too short\")"
   ]
  },
  {
   "cell_type": "code",
   "execution_count": 1,
   "metadata": {},
   "outputs": [],
   "source": [
    "#답지\n",
    "f1 = open(\"test.txt\", 'w')\n",
    "f1.write(\"Life is too short!\")\n",
    "f1.close() # 열린 파일 객체를 닫는다.\n",
    "\n",
    "f2 = open(\"test.txt\", 'r')\n",
    "print(f2.read())\n",
    "f2.close()"
   ]
  },
  {
   "cell_type": "code",
   "execution_count": null,
   "metadata": {},
   "outputs": [],
   "source": [
    "# 답지 with \n",
    "with open(\"test.txt\", 'w') as f1:\n",
    "    f1.write(\"Life is too short! \")\n",
    "with open(\"test.txt\", 'r') as f2:\n",
    "    print(f2.read())"
   ]
  },
  {
   "cell_type": "markdown",
   "metadata": {},
   "source": [
    "## Q6.사용자의 입력을 파일(test.txt)에 저장하는 프로그램을 작성해 보자. (단 프로그램을 다시 실행하더라도 기존에 작성한 내용을 유지하고 새로 입력한 내용을 추가해야 한다.)"
   ]
  },
  {
   "cell_type": "code",
   "execution_count": 2,
   "metadata": {},
   "outputs": [
    {
     "name": "stdout",
     "output_type": "stream",
     "text": [
      "\n"
     ]
    }
   ],
   "source": [
    "f = open(\"test.txt\",'a')\n",
    "f.write(input())\n",
    "f.close()"
   ]
  },
  {
   "cell_type": "code",
   "execution_count": null,
   "metadata": {},
   "outputs": [],
   "source": [
    "#답지\n",
    "user_input = input(\"저장할 내용을 입력하세요:\")\n",
    "f = open('test.txt', 'a')   # 내용을 추가하기 위해서 'a'를 사용\n",
    "f.write(user_input)\n",
    "f.write(\"\\n\")               # 입력된 내용을 줄 단위로 구분하기 위해 줄 바꿈 문자 삽입\n",
    "f.close()"
   ]
  },
  {
   "cell_type": "markdown",
   "metadata": {},
   "source": [
    "## Q7.다음과 같은 내용을 지닌 파일 demo.txt가 있다. 이 파일의 내용 중 \"java\"라는 문자열을 \"python\"으로 바꾸어서 저장해 보자."
   ]
  },
  {
   "cell_type": "code",
   "execution_count": 6,
   "metadata": {},
   "outputs": [],
   "source": [
    "#replace 함수 사용\n",
    "\n",
    "f = open(\"demo.txt\",'w')\n",
    "f.write(\"Life is too short\\nyou need java\")\n",
    "f.close()\n",
    "\n",
    "f = open(\"demo.txt\",'w')\n",
    "data = f.replace(\"java\",\"python\")\n",
    "f.close()"
   ]
  },
  {
   "cell_type": "code",
   "execution_count": 11,
   "metadata": {},
   "outputs": [],
   "source": [
    "#답지\n",
    "\n",
    "# 안의 문자열들을 읽어들인 후\n",
    "f = open('demo.txt','r')\n",
    "body = f.read()\n",
    "# f.close()\n",
    "\n",
    "#변경하고\n",
    "body = body.replace('java','python')\n",
    "\n",
    "# #변경한 것으로 수정한다.\n",
    "f = open('demo.txt','w')\n",
    "f.write(body)\n",
    "f.close()"
   ]
  },
  {
   "cell_type": "code",
   "execution_count": 9,
   "metadata": {},
   "outputs": [
    {
     "data": {
      "text/plain": [
       "'Life is too short\\nyou need python'"
      ]
     },
     "execution_count": 9,
     "metadata": {},
     "output_type": "execute_result"
    }
   ],
   "source": [
    "body"
   ]
  }
 ],
 "metadata": {
  "kernelspec": {
   "display_name": "Python 3",
   "language": "python",
   "name": "python3"
  },
  "language_info": {
   "codemirror_mode": {
    "name": "ipython",
    "version": 3
   },
   "file_extension": ".py",
   "mimetype": "text/x-python",
   "name": "python",
   "nbconvert_exporter": "python",
   "pygments_lexer": "ipython3",
   "version": "3.8.3"
  }
 },
 "nbformat": 4,
 "nbformat_minor": 4
}
