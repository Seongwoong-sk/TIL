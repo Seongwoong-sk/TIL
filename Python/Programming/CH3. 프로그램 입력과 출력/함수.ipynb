{
 "cells": [
  {
   "cell_type": "markdown",
   "metadata": {},
   "source": [
    "# 함수란 무엇인가?\n",
    "과일(입력), 믹서(함수), 주스(출력)"
   ]
  },
  {
   "cell_type": "markdown",
   "metadata": {},
   "source": [
    "# 함수를 사용하는 이유?\n",
    "즉 반복되는 부분이 있을 경우 \"반복적으로 사용되는 가치 있는 부분\"을 한 뭉치로 묶어서 \"어떤 입력값을 주었을 때 어떤 결괏값을 돌려준다\"라는 식의 함수로 작성하는 것이 현명하다.\n",
    "또 다른 이유는 자신이 만든 프로그램을 함수화하면 프로그램 흐름을 일목요연하게 볼 수 있기 때문이다. \n",
    "함수를 잘 사용하고 함수를 적절하게 만들 줄 아는 사람이 능력 있는 프로그래머이다."
   ]
  },
  {
   "cell_type": "markdown",
   "metadata": {},
   "source": [
    "## 파이썬 함수의 구조"
   ]
  },
  {
   "cell_type": "code",
   "execution_count": null,
   "metadata": {},
   "outputs": [],
   "source": [
    "# def 함수명 (매개변수):  # 함수를 만들 때 사용하는 예약어\n",
    "#     <수행할 문장1>\n",
    "#     <수행할 문장2>\n",
    "#     ..."
   ]
  },
  {
   "cell_type": "code",
   "execution_count": 2,
   "metadata": {},
   "outputs": [
    {
     "name": "stdout",
     "output_type": "stream",
     "text": [
      "7\n"
     ]
    }
   ],
   "source": [
    "def add(a,b):   # 함수 선언\n",
    "    return a + b\n",
    "a = 3\n",
    "b = 4\n",
    "c = add(a,b)\n",
    "print(c)"
   ]
  },
  {
   "cell_type": "markdown",
   "metadata": {},
   "source": [
    "## 매개변수와 인수"
   ]
  },
  {
   "cell_type": "code",
   "execution_count": 3,
   "metadata": {},
   "outputs": [
    {
     "name": "stdout",
     "output_type": "stream",
     "text": [
      "7\n"
     ]
    }
   ],
   "source": [
    "def add(a, b):   # a, b는 매개변수 : 함수에 입력으로 전달된 값을 받는 변수 의미\n",
    "    return a + b\n",
    "\n",
    "print(add(3,4))  # 3, 4는 인수 : 함수를 호출할 때 전달하는 입력값"
   ]
  },
  {
   "cell_type": "markdown",
   "metadata": {},
   "source": [
    "## 입력값과 결괏값에 따른 함수의 형태\n",
    "입력값 ---> 함수 ---> 결괏값\n",
    "함수의 형태는 입력값과 결괏값의 존재 유무에 따라 4가지 유형으로 나뉜다."
   ]
  },
  {
   "cell_type": "markdown",
   "metadata": {},
   "source": [
    "### 1. 일반적인 함수\n",
    "입력값이 있고 결괏값이 있는 함수가 일반적인 함수이다."
   ]
  },
  {
   "cell_type": "code",
   "execution_count": null,
   "metadata": {},
   "outputs": [],
   "source": [
    "# def 함수이름(매개변수):\n",
    "#     <수행할 문장>\n",
    "#     ....\n",
    "#     return 결과값"
   ]
  },
  {
   "cell_type": "code",
   "execution_count": 4,
   "metadata": {},
   "outputs": [
    {
     "name": "stdout",
     "output_type": "stream",
     "text": [
      "7\n"
     ]
    }
   ],
   "source": [
    "def add(a, b):\n",
    "    result = a + b\n",
    "    return result\n",
    "a = add(3,4)\n",
    "print(a)\n",
    "#결괏값을 받을 변수 = 함수이름(입력인수1, 입력인수2, ....)"
   ]
  },
  {
   "cell_type": "markdown",
   "metadata": {},
   "source": [
    "### 2. 입력값이 없는 함수"
   ]
  },
  {
   "cell_type": "code",
   "execution_count": 6,
   "metadata": {},
   "outputs": [
    {
     "name": "stdout",
     "output_type": "stream",
     "text": [
      "Hi\n"
     ]
    }
   ],
   "source": [
    "def say():\n",
    "    return 'Hi'\n",
    "a =say()\n",
    "print(a)\n",
    "#결괏값을 받을 변수 = 함수이름()"
   ]
  },
  {
   "cell_type": "markdown",
   "metadata": {},
   "source": [
    "### 3. 결괏값이 없는 함수"
   ]
  },
  {
   "cell_type": "code",
   "execution_count": 17,
   "metadata": {},
   "outputs": [
    {
     "name": "stdout",
     "output_type": "stream",
     "text": [
      "3, 4의 합은 7입니다. \n"
     ]
    }
   ],
   "source": [
    "def add(a,b):\n",
    "    print(\"%d, %d의 합은 %d입니다. \"% (a,b,a+b))\n",
    "add(3,4)\n",
    "#함수이름(입력인수1,입력인수2)\n",
    "#결괏값은 오직 return 명령어로만 돌려받을 수 있다."
   ]
  },
  {
   "cell_type": "code",
   "execution_count": 18,
   "metadata": {},
   "outputs": [
    {
     "name": "stdout",
     "output_type": "stream",
     "text": [
      "3, 4의 합은 7입니다. \n",
      "None\n"
     ]
    }
   ],
   "source": [
    "a = add(3,4)\n",
    "print(a)\n",
    "#a의 값은 None이다. None이란 거짓을 나타내는 자료형, 결괏값이 없을 때 \n",
    "#  함수add는 반환 값으로 a 변수에 None을 돌려준다 "
   ]
  },
  {
   "cell_type": "markdown",
   "metadata": {},
   "source": [
    "### 4. 입력값도 결괏값도 없는 함수"
   ]
  },
  {
   "cell_type": "code",
   "execution_count": 20,
   "metadata": {},
   "outputs": [
    {
     "name": "stdout",
     "output_type": "stream",
     "text": [
      "Hi\n"
     ]
    }
   ],
   "source": [
    "def say():\n",
    "    print('Hi')\n",
    "#함수이름()"
   ]
  },
  {
   "cell_type": "markdown",
   "metadata": {},
   "source": [
    "## 매개변수 지정하여 호출하기"
   ]
  },
  {
   "cell_type": "code",
   "execution_count": 21,
   "metadata": {},
   "outputs": [
    {
     "name": "stdout",
     "output_type": "stream",
     "text": [
      "10\n"
     ]
    }
   ],
   "source": [
    "#함수에 매개변수를 지정하여 사용\n",
    "def add(a,b):\n",
    "    return a+b\n",
    "result = add(a=3,b=7) #매개변수 지정 / a와 b 순서 상관이 없음\n",
    "print(result)\n"
   ]
  },
  {
   "cell_type": "markdown",
   "metadata": {},
   "source": [
    "## 입력값이 몇 개가 될지 모를 때는 어떻게 해야 할까?"
   ]
  },
  {
   "cell_type": "code",
   "execution_count": null,
   "metadata": {},
   "outputs": [],
   "source": [
    "#입력값이 여러 개일 때 그 입력값을 모두 더해 주는 함수를 생각해보자."
   ]
  },
  {
   "cell_type": "code",
   "execution_count": 22,
   "metadata": {},
   "outputs": [],
   "source": [
    "# def 함수이름(*매개변수):  # *매개변수\n",
    "#     <수행할 문장1>\n",
    "#     ...\n",
    "    "
   ]
  },
  {
   "cell_type": "markdown",
   "metadata": {},
   "source": [
    "#### 여러 개의 입력값을 받는 함수 만들기"
   ]
  },
  {
   "cell_type": "code",
   "execution_count": 24,
   "metadata": {},
   "outputs": [],
   "source": [
    "#여러 개의 입력값을 모두 더하는 함수\n",
    "def add_many(*args):  # 매개변수 이름 앞에 \n",
    "                      # *을 붙이면 입력값을 전부 모아서 튜플로 만들어줌\n",
    "    result = 0\n",
    "    for i in args:\n",
    "        result = result + i\n",
    "    return result"
   ]
  },
  {
   "cell_type": "code",
   "execution_count": 28,
   "metadata": {},
   "outputs": [
    {
     "name": "stdout",
     "output_type": "stream",
     "text": [
      "6\n",
      "55\n"
     ]
    }
   ],
   "source": [
    "result = add_many(1,2,3)\n",
    "print(result)\n",
    "result = add_many(1,2,3,4,5,6,7,8,9,10)\n",
    "print(result)"
   ]
  },
  {
   "cell_type": "markdown",
   "metadata": {},
   "source": [
    "#### 여러 개의 입력을 처리할 때 def add_many(*args)처럼 함수의 매개변수로 *args만 사용할 수 있는 건 아님"
   ]
  },
  {
   "cell_type": "code",
   "execution_count": 41,
   "metadata": {},
   "outputs": [],
   "source": [
    "def add_mul(choice,*args):\n",
    "    if choice == \"add\":\n",
    "        result = 0\n",
    "        for i in args:\n",
    "            result = result + i\n",
    "    elif choice == \"mul\":\n",
    "        result = 1\n",
    "        for i in args:\n",
    "            result = result * i\n",
    "    return result"
   ]
  },
  {
   "cell_type": "code",
   "execution_count": 42,
   "metadata": {},
   "outputs": [
    {
     "name": "stdout",
     "output_type": "stream",
     "text": [
      "15\n",
      "120\n"
     ]
    }
   ],
   "source": [
    "result = add_mul('add',1,2,3,4,5)\n",
    "print(result)\n",
    "\n",
    "result = add_mul(\"mul\",1,2,3,4,5)\n",
    "print(result)"
   ]
  },
  {
   "cell_type": "markdown",
   "metadata": {},
   "source": [
    "### 키워드 파라미터 kwargs\n",
    "키워드 파라미터를 사용할 때는 매개변수 앞에 별 두 개(**)를 붙임"
   ]
  },
  {
   "cell_type": "code",
   "execution_count": 49,
   "metadata": {},
   "outputs": [
    {
     "name": "stdout",
     "output_type": "stream",
     "text": [
      "{'a': 1}\n",
      "{'name': 'foo', 'age': 3}\n"
     ]
    }
   ],
   "source": [
    "def print_kwargs(**kwargs): #배개변수 kwargs는 딕셔너리가 되고 \n",
    "                            #모든 key=value 형태의 결괏값이 그 딕셔너리에 저장됨\n",
    "    print(kwargs)\n",
    "\n",
    "print_kwargs(a=1)\n",
    "print_kwargs(name = 'foo',age=3)"
   ]
  },
  {
   "cell_type": "markdown",
   "metadata": {},
   "source": [
    "## 함수의 결괏값은 언제나 하나이다."
   ]
  },
  {
   "cell_type": "code",
   "execution_count": 53,
   "metadata": {},
   "outputs": [
    {
     "name": "stdout",
     "output_type": "stream",
     "text": [
      "(7, 12)\n"
     ]
    }
   ],
   "source": [
    "def add_and_mul(a,b):\n",
    "    return a+b, a*b\n",
    "result = add_and_mul(3,4)\n",
    "print(result)  #add_and_mul함수의 결괏값 a+b와 a*b는 튜플값 하나인 (a+b,a*b)로 돌려줌"
   ]
  },
  {
   "cell_type": "code",
   "execution_count": 55,
   "metadata": {},
   "outputs": [
    {
     "name": "stdout",
     "output_type": "stream",
     "text": [
      "7 12\n"
     ]
    }
   ],
   "source": [
    "#만약 이 하나의 튜플 값을 2개의 결괏값처럼 받고 싶다면 \n",
    "result1, result2 = add_and_mul(3,4)\n",
    "print(result1,result2)"
   ]
  },
  {
   "cell_type": "code",
   "execution_count": 56,
   "metadata": {},
   "outputs": [],
   "source": [
    "def add_and_mul(a,b): \n",
    "...     return a+b \n",
    "...     return a*b \n",
    "#이러면 return a+b만 출력됨."
   ]
  },
  {
   "cell_type": "markdown",
   "metadata": {},
   "source": [
    "##### return의 또 다른 쓰임새\n",
    "특별한 상황일 때 함수를 빠져나가고 싶다면 return을 단독으로 써서 함수를 즉시 빠져나갈 수 있음"
   ]
  },
  {
   "cell_type": "code",
   "execution_count": 57,
   "metadata": {},
   "outputs": [],
   "source": [
    "def say_nick(nick):\n",
    "    if nick == \"바보\":\n",
    "        return  #아무것도 반환하지 않고 함수를 빠져나감.\n",
    "    print(\"나의 별명은 %s 입니다.\" % nick)\n",
    "    \n",
    "#이 함수에서 반환 값(결괏값)은 없다(문자열과 출력한다는 것과 \n",
    "#반환 값이 있다는 것은 별개다)\n",
    "# 함수의 반환 값은 오로지 return문에 의해서만 생성된다."
   ]
  },
  {
   "cell_type": "code",
   "execution_count": 59,
   "metadata": {},
   "outputs": [
    {
     "name": "stdout",
     "output_type": "stream",
     "text": [
      "나의 별명은 야호 입니다.\n"
     ]
    }
   ],
   "source": [
    "say_nick(\"야호\")\n",
    "say_nick(\"바보\")"
   ]
  },
  {
   "cell_type": "markdown",
   "metadata": {},
   "source": [
    "## 매개변수에 초깃값 미리 설정하기"
   ]
  },
  {
   "cell_type": "code",
   "execution_count": 64,
   "metadata": {},
   "outputs": [
    {
     "name": "stdout",
     "output_type": "stream",
     "text": [
      "나의 이름은 김성웅 입니다.\n",
      "나이는 25살입니다.\n",
      "남자입니다.\n",
      "나의 이름은 김성웅 입니다.\n",
      "나이는 25살입니다.\n",
      "남자입니다.\n"
     ]
    }
   ],
   "source": [
    "def say_myself(name, old, man = True):#man=True처럼 매개변수에 미리 값을 넣어 준 것\n",
    "#함수의 매개변수에 들어갈 값이 항상 변하는 게 아니라면 초깃값을 미리 설정해두면 유용\n",
    "    print(\"나의 이름은 %s 입니다.\" % name)\n",
    "    print(\"나이는 %d살입니다.\"% old)\n",
    "    if man:\n",
    "        print(\"남자입니다.\")\n",
    "    else:\n",
    "        print(\"여자입니다.\")\n",
    "        \n",
    "\n",
    "say_myself(\"김성웅\",25) # man이라는 변수에는 입력값을 주지 않았찌만 초기값 True를 줌\n",
    "say_myself(\"김성웅\",25,True)"
   ]
  },
  {
   "cell_type": "code",
   "execution_count": 1,
   "metadata": {
    "ExecuteTime": {
     "end_time": "2021-02-11T13:42:19.321771Z",
     "start_time": "2021-02-11T13:42:19.119027Z"
    }
   },
   "outputs": [
    {
     "ename": "NameError",
     "evalue": "name 'say_myself' is not defined",
     "output_type": "error",
     "traceback": [
      "\u001b[1;31m---------------------------------------------------------------------------\u001b[0m",
      "\u001b[1;31mNameError\u001b[0m                                 Traceback (most recent call last)",
      "\u001b[1;32m<ipython-input-1-92d86ec893d5>\u001b[0m in \u001b[0;36m<module>\u001b[1;34m\u001b[0m\n\u001b[1;32m----> 1\u001b[1;33m \u001b[0msay_myself\u001b[0m\u001b[1;33m(\u001b[0m\u001b[1;34m\"김성웅\"\u001b[0m\u001b[1;33m,\u001b[0m\u001b[1;36m26\u001b[0m\u001b[1;33m,\u001b[0m\u001b[1;32mFalse\u001b[0m\u001b[1;33m)\u001b[0m\u001b[1;33m\u001b[0m\u001b[1;33m\u001b[0m\u001b[0m\n\u001b[0m",
      "\u001b[1;31mNameError\u001b[0m: name 'say_myself' is not defined"
     ]
    }
   ],
   "source": [
    "say_myself(\"김성웅\",26,False)"
   ]
  },
  {
   "cell_type": "code",
   "execution_count": 6,
   "metadata": {
    "ExecuteTime": {
     "end_time": "2021-02-11T13:43:00.560496Z",
     "start_time": "2021-02-11T13:43:00.545332Z"
    }
   },
   "outputs": [
    {
     "ename": "SyntaxError",
     "evalue": "non-default argument follows default argument (<ipython-input-6-63ae0fb8deaf>, line 1)",
     "output_type": "error",
     "traceback": [
      "\u001b[1;36m  File \u001b[1;32m\"<ipython-input-6-63ae0fb8deaf>\"\u001b[1;36m, line \u001b[1;32m1\u001b[0m\n\u001b[1;33m    def say_myself(name,man = True, old):\u001b[0m\n\u001b[1;37m                  ^\u001b[0m\n\u001b[1;31mSyntaxError\u001b[0m\u001b[1;31m:\u001b[0m non-default argument follows default argument\n"
     ]
    }
   ],
   "source": [
    "def say_myself(name,man = True, old): \n",
    "    print(\"나의 이름은 %s 입니다.\" % name)\n",
    "    print(\"나이는 %d살입니다.\"% old)\n",
    "    if man:\n",
    "        print(\"남자입니다.\")\n",
    "    else:\n",
    "        print(\"여자입니다.\")\n",
    "        \n",
    "say_myself(\"김성웅\",25)\n",
    "#초깃값을 설정해 놓은 매개변수 뒤에 초깃값을 설정해 놓지 않은 매개변수는 사용할 수 없다는 뜻이다.\n",
    "#초기화시키고 싶은 매개변수를 항상 뒤쪽에 놓는 것을 잊지 말자.\n"
   ]
  },
  {
   "cell_type": "markdown",
   "metadata": {},
   "source": [
    "## 함수 안에서 선언한 변수의 효력 범위"
   ]
  },
  {
   "cell_type": "code",
   "execution_count": 68,
   "metadata": {},
   "outputs": [
    {
     "name": "stdout",
     "output_type": "stream",
     "text": [
      "1\n"
     ]
    }
   ],
   "source": [
    "a = 1\n",
    "def vartest(a):  #여기서 a는 함수 안에서만 사용하는 함수만의 변수이다.\n",
    "    a +=1 #함수 안에서 사용하는 매개변수는 함수 밖의 변수 이름과는 전혀 상관이 없음\n",
    "    \n",
    "vartest(a) \n",
    "print(a)  "
   ]
  },
  {
   "cell_type": "code",
   "execution_count": 74,
   "metadata": {},
   "outputs": [
    {
     "name": "stdout",
     "output_type": "stream",
     "text": [
      "1\n"
     ]
    }
   ],
   "source": [
    "vartest(3) #함수 안에서 선언한 매개변수는 함수 안에서만 사용될 뿐 함수밖에서는 사용X\n",
    "print(a)"
   ]
  },
  {
   "cell_type": "markdown",
   "metadata": {},
   "source": [
    "## 함수 안에서 함수 밖의 변수를 변경하는 방법"
   ]
  },
  {
   "cell_type": "markdown",
   "metadata": {},
   "source": [
    "#### 1. return 사용하기"
   ]
  },
  {
   "cell_type": "code",
   "execution_count": 75,
   "metadata": {},
   "outputs": [
    {
     "name": "stdout",
     "output_type": "stream",
     "text": [
      "2\n"
     ]
    }
   ],
   "source": [
    "a = 1\n",
    "def vartest(a):\n",
    "    a += 1\n",
    "    return a\n",
    "\n",
    "a = vartest(a) #vartest의 a와 함수밖의 a는 다름. a가 vartest(a)의 값을 받음.\n",
    "print(a)"
   ]
  },
  {
   "cell_type": "markdown",
   "metadata": {},
   "source": [
    "#### 2. global 명령어 사용하기 "
   ]
  },
  {
   "cell_type": "code",
   "execution_count": 77,
   "metadata": {},
   "outputs": [
    {
     "name": "stdout",
     "output_type": "stream",
     "text": [
      "2\n"
     ]
    }
   ],
   "source": [
    "a = 1\n",
    "def vartest():\n",
    "    global a #  함수 안에서 함수 밖의 a 변수를 직접 사용하겠다는뜻\n",
    "              # 프로그래밍할때 global명령어는 사용하지 않는게 좋음 \n",
    "              # (독립적으로 존재하는게 좋음)\n",
    "              # 외부 변수에 종속적인 함수는 그다지 좋은 함수가 아님.\n",
    "    a += 1\n",
    "\n",
    "vartest()\n",
    "print(a)"
   ]
  },
  {
   "cell_type": "markdown",
   "metadata": {},
   "source": [
    "# lambda\n",
    "lambda는 함수를 생성할 때 사용하는 예약어로 def와 동일한 역할을 한다.\n",
    "보통 함수를 한 줄로 간결하게 만들 때 사용한다. def를 사용해야 할 정도로 복잡하지 않거나 def를 사용할 수 없는 곳에 주로 쓰임\n",
    "\n",
    "사용법\n",
    "- lambda 매개변수1, 매개변수2, ... : 매개변수를 이용한 표현식"
   ]
  },
  {
   "cell_type": "code",
   "execution_count": 78,
   "metadata": {},
   "outputs": [
    {
     "name": "stdout",
     "output_type": "stream",
     "text": [
      "7\n"
     ]
    }
   ],
   "source": [
    "#두 개의 인수를 받아 서로 더한 값을 돌려주는 lambda 함수이다.\n",
    "add = lambda a, b : a+b  # lambda 예약어로 만든 함수는 \n",
    "                          # return 명령어가 없어도 결괏값을 돌려준다.\n",
    "result = add(3,4)\n",
    "print(result)"
   ]
  },
  {
   "cell_type": "code",
   "execution_count": 80,
   "metadata": {},
   "outputs": [
    {
     "name": "stdout",
     "output_type": "stream",
     "text": [
      "7\n"
     ]
    }
   ],
   "source": [
    "def add(a,b):\n",
    "    return a+b\n",
    "\n",
    "result = add(3,4)\n",
    "print(result)"
   ]
  }
 ],
 "metadata": {
  "kernelspec": {
   "display_name": "Python 3",
   "language": "python",
   "name": "python3"
  },
  "language_info": {
   "codemirror_mode": {
    "name": "ipython",
    "version": 3
   },
   "file_extension": ".py",
   "mimetype": "text/x-python",
   "name": "python",
   "nbconvert_exporter": "python",
   "pygments_lexer": "ipython3",
   "version": "3.7.4"
  },
  "toc": {
   "base_numbering": 1,
   "nav_menu": {},
   "number_sections": true,
   "sideBar": true,
   "skip_h1_title": false,
   "title_cell": "Table of Contents",
   "title_sidebar": "Contents",
   "toc_cell": false,
   "toc_position": {},
   "toc_section_display": true,
   "toc_window_display": false
  },
  "varInspector": {
   "cols": {
    "lenName": 16,
    "lenType": 16,
    "lenVar": 40
   },
   "kernels_config": {
    "python": {
     "delete_cmd_postfix": "",
     "delete_cmd_prefix": "del ",
     "library": "var_list.py",
     "varRefreshCmd": "print(var_dic_list())"
    },
    "r": {
     "delete_cmd_postfix": ") ",
     "delete_cmd_prefix": "rm(",
     "library": "var_list.r",
     "varRefreshCmd": "cat(var_dic_list()) "
    }
   },
   "types_to_exclude": [
    "module",
    "function",
    "builtin_function_or_method",
    "instance",
    "_Feature"
   ],
   "window_display": false
  }
 },
 "nbformat": 4,
 "nbformat_minor": 4
}
