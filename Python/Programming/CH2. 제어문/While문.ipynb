{
 "cells": [
  {
   "cell_type": "markdown",
   "metadata": {},
   "source": [
    "# While문의 기본 구조\n",
    "조건문이 참인 동안에 while문 아래의 문장이 반복해서 수행된다"
   ]
  },
  {
   "cell_type": "markdown",
   "metadata": {},
   "source": [
    "<!-- while <조건문>:\n",
    "    <수행할 문장1>\n",
    "    <수행할 문장2>\n",
    "    <수행할 문장3>\n",
    "    ... -->"
   ]
  },
  {
   "cell_type": "code",
   "execution_count": 1,
   "metadata": {},
   "outputs": [
    {
     "name": "stdout",
     "output_type": "stream",
     "text": [
      "나무를 1번 찍었습니다.\n",
      "나무를 2번 찍었습니다.\n",
      "나무를 3번 찍었습니다.\n",
      "나무를 4번 찍었습니다.\n",
      "나무를 5번 찍었습니다.\n",
      "나무를 6번 찍었습니다.\n",
      "나무를 7번 찍었습니다.\n",
      "나무를 8번 찍었습니다.\n",
      "나무를 9번 찍었습니다.\n",
      "나무를 10번 찍었습니다.\n",
      "나무 넘어갑니다\n"
     ]
    }
   ],
   "source": [
    "#열 번 찍어 안 넘어가는 나무 없다 \n",
    "treeHit = 0\n",
    "while treeHit <10:\n",
    "    treeHit +=1\n",
    "    print(\"나무를 %d번 찍었습니다.\" % treeHit)\n",
    "    if treeHit==10:\n",
    "        print(\"나무 넘어갑니다\")"
   ]
  },
  {
   "cell_type": "markdown",
   "metadata": {},
   "source": [
    "## while문 만들기"
   ]
  },
  {
   "cell_type": "code",
   "execution_count": null,
   "metadata": {},
   "outputs": [
    {
     "name": "stdout",
     "output_type": "stream",
     "text": [
      "\n"
     ]
    }
   ],
   "source": [
    "number = 0\n",
    ">>> while number != 4:\n",
    "...     print(prompt)\n",
    "...     number = int(input())\n"
   ]
  },
  {
   "cell_type": "markdown",
   "metadata": {},
   "source": [
    "# While문 강제로 빠져나가기\n",
    "break"
   ]
  },
  {
   "cell_type": "code",
   "execution_count": null,
   "metadata": {},
   "outputs": [],
   "source": [
    "coffee = 10\n",
    ">>> money = 300\n",
    ">>> while money: #money가 300으로 고정되어 있으므로 0이 아니기 때문에 항상 참\n",
    "...     print(\"돈을 받았으니 커피를 줍니다.\")\n",
    "...     coffee = coffee -1\n",
    "...     print(\"남은 커피의 양은 %d개입니다.\" % coffee)\n",
    "...     if coffee == 0:\n",
    "...         print(\"커피가 다 떨어졌습니다. 판매를 중지합니다.\")\n",
    "...         break"
   ]
  },
  {
   "cell_type": "code",
   "execution_count": null,
   "metadata": {},
   "outputs": [],
   "source": []
  },
  {
   "cell_type": "code",
   "execution_count": 3,
   "metadata": {},
   "outputs": [
    {
     "name": "stdout",
     "output_type": "stream",
     "text": [
      "돈을 넣어 주세요 : 400\n",
      "거스름돈 100를 주고 커피를 줍니다.\n",
      "남은 커피 수량 : 9개\n",
      "돈을 넣어 주세요 : 300\n",
      "커피를 줍니다.\n",
      "남은 커피 수량 : 8개\n",
      "돈을 넣어 주세요 : 300\n",
      "커피를 줍니다.\n",
      "남은 커피 수량 : 7개\n",
      "돈을 넣어 주세요 : 500\n",
      "거스름돈 200를 주고 커피를 줍니다.\n",
      "남은 커피 수량 : 6개\n",
      "돈을 넣어 주세요 : 350\n",
      "거스름돈 50를 주고 커피를 줍니다.\n",
      "남은 커피 수량 : 5개\n",
      "돈을 넣어 주세요 : 330\n",
      "거스름돈 30를 주고 커피를 줍니다.\n",
      "남은 커피 수량 : 4개\n",
      "돈을 넣어 주세요 : 330\n",
      "거스름돈 30를 주고 커피를 줍니다.\n",
      "남은 커피 수량 : 3개\n",
      "돈을 넣어 주세요 : 330\n",
      "거스름돈 30를 주고 커피를 줍니다.\n",
      "남은 커피 수량 : 2개\n",
      "돈을 넣어 주세요 : 320\n",
      "거스름돈 20를 주고 커피를 줍니다.\n",
      "남은 커피 수량 : 1개\n",
      "돈을 넣어 주세요 : 310\n",
      "거스름돈 10를 주고 커피를 줍니다.\n",
      "남은 커피 수량 : 0개\n",
      "커피가 다 떨어졌습니다. 판매를 중지합니다.\n"
     ]
    }
   ],
   "source": [
    "coffee = 10\n",
    "while True:\n",
    "    money = int(input(\"돈을 넣어 주세요 : \"))\n",
    "    if money == 300:\n",
    "        print(\"커피를 줍니다.\")\n",
    "        coffee -= 1\n",
    "        print(\"남은 커피 수량 : %d개\" % coffee)\n",
    "    elif money > 300:\n",
    "        print(\"거스름돈 %d를 주고 커피를 줍니다.\" % (money-300))\n",
    "        coffee -=1\n",
    "        print(\"남은 커피 수량 : %d개\" % coffee)\n",
    "    else :\n",
    "        print(\"돈을 다시 돌려주고 커피를 주지 않습니다.\")\n",
    "        print(\"남은 커피의 양은 %d개 입니다.\" % coffee)\n",
    "    if coffee == 0:\n",
    "        print(\"커피가 다 떨어졌습니다. 판매를 중지합니다.\")\n",
    "        break\n",
    "    "
   ]
  },
  {
   "cell_type": "markdown",
   "metadata": {},
   "source": [
    "## While문의 맨 처음으로 돌아가기\n",
    "continue"
   ]
  },
  {
   "cell_type": "code",
   "execution_count": 5,
   "metadata": {},
   "outputs": [
    {
     "name": "stdout",
     "output_type": "stream",
     "text": [
      "1\n",
      "3\n",
      "5\n",
      "7\n",
      "9\n"
     ]
    }
   ],
   "source": [
    "#1부터 10까지의 숫자 중에서 홀수만 출력하는 것을 while문을 사용해서 작성하는 것\n",
    "a = 0\n",
    "while a<10:\n",
    "    a +=1  ## <<여기로 이동\n",
    "    if a%2==0: continue\n",
    "    print(a)"
   ]
  },
  {
   "cell_type": "code",
   "execution_count": null,
   "metadata": {},
   "outputs": [],
   "source": []
  },
  {
   "cell_type": "code",
   "execution_count": null,
   "metadata": {},
   "outputs": [],
   "source": []
  },
  {
   "cell_type": "code",
   "execution_count": null,
   "metadata": {},
   "outputs": [],
   "source": []
  },
  {
   "cell_type": "code",
   "execution_count": null,
   "metadata": {},
   "outputs": [],
   "source": []
  },
  {
   "cell_type": "code",
   "execution_count": null,
   "metadata": {},
   "outputs": [],
   "source": []
  },
  {
   "cell_type": "code",
   "execution_count": null,
   "metadata": {},
   "outputs": [],
   "source": []
  },
  {
   "cell_type": "code",
   "execution_count": null,
   "metadata": {},
   "outputs": [],
   "source": []
  },
  {
   "cell_type": "code",
   "execution_count": null,
   "metadata": {},
   "outputs": [],
   "source": []
  }
 ],
 "metadata": {
  "kernelspec": {
   "display_name": "Python 3",
   "language": "python",
   "name": "python3"
  }
 },
 "nbformat": 4,
 "nbformat_minor": 4
}
